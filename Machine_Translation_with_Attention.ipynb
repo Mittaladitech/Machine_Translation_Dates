{
 "cells": [
  {
   "cell_type": "markdown",
   "metadata": {},
   "source": [
    "# Neural Machine Translation\n",
    "\n",
    "* We will build a Neural Machine Translation (NMT) model to translate human-readable dates (\"25th of June, 2009\") into machine-readable dates (\"2009-06-25\"). \n",
    "* We will do this using an attention model, one of the most sophisticated sequence-to-sequence models. "
   ]
  },
  {
   "cell_type": "code",
   "execution_count": 1,
   "metadata": {},
   "outputs": [
    {
     "name": "stderr",
     "output_type": "stream",
     "text": [
      "Using TensorFlow backend.\n"
     ]
    }
   ],
   "source": [
    "from keras.layers import Bidirectional, Concatenate, Permute, Dot, Input, LSTM, Multiply\n",
    "from keras.layers import RepeatVector, Dense, Activation, Lambda\n",
    "from keras.optimizers import Adam\n",
    "from keras.utils import to_categorical\n",
    "from keras.models import load_model, Model\n",
    "import keras.backend as K\n",
    "import numpy as np\n",
    "\n",
    "from faker import Faker\n",
    "import random\n",
    "from tqdm import tqdm\n",
    "from babel.dates import format_date\n",
    "from nmt_utils import *\n",
    "import matplotlib.pyplot as plt\n",
    "%matplotlib inline"
   ]
  },
  {
   "cell_type": "markdown",
   "metadata": {},
   "source": [
    "Faker is a Python package that generates fake data. Whether we need to bootstrap our database, create good-looking XML documents, fill-in our persistence to stress test it, or anonymize data taken from a production service, Faker is for us."
   ]
  },
  {
   "cell_type": "markdown",
   "metadata": {},
   "source": [
    "## 1 - Translating human readable dates into machine readable dates\n",
    "\n",
    "* The model you will build here could be used to translate from one language to another, such as translating from English to Hindi. \n",
    "* However, language translation requires massive datasets and usually takes days of training on GPUs. \n",
    "* To give you a place to experiment with these models without using massive datasets, we will perform a simpler \"date translation\" task. \n",
    "* The network will input a date written in a variety of possible formats (*e.g. \"the 29th of August 1958\", \"03/30/1968\", \"24 JUNE 1987\"*) \n",
    "* The network will translate them into standardized, machine readable dates (*e.g. \"1958-08-29\", \"1968-03-30\", \"1987-06-24\"*). \n",
    "* We will have the network learn to output dates in the common machine-readable format YYYY-MM-DD. "
   ]
  },
  {
   "cell_type": "markdown",
   "metadata": {},
   "source": [
    "We will train the model on a dataset of 10,000 human readable dates and their equivalent, standardized, machine readable dates."
   ]
  },
  {
   "cell_type": "code",
   "execution_count": 2,
   "metadata": {},
   "outputs": [
    {
     "name": "stderr",
     "output_type": "stream",
     "text": [
      "100%|█████████████████████████████████████████████████████████████████████████████████████████████████████████████████████████████████████████████████████████| 10000/10000 [00:00<00:00, 19067.98it/s]\n"
     ]
    }
   ],
   "source": [
    "# Dataset\n",
    "\n",
    "m = 10000\n",
    "dataset, human_vocab, machine_vocab, inv_machine_vocab = load_dataset(m)"
   ]
  },
  {
   "cell_type": "code",
   "execution_count": 3,
   "metadata": {},
   "outputs": [
    {
     "data": {
      "text/plain": [
       "[('wednesday march 20 1996', '1996-03-20'),\n",
       " ('8/15/98', '1998-08-15'),\n",
       " ('03.10.72', '1972-10-03'),\n",
       " ('august 15 1987', '1987-08-15'),\n",
       " ('oct 16 2004', '2004-10-16'),\n",
       " ('25 jan 2003', '2003-01-25'),\n",
       " ('jul 22 1997', '1997-07-22'),\n",
       " ('22.08.90', '1990-08-22'),\n",
       " ('friday june 7 2002', '2002-06-07'),\n",
       " ('saturday may 14 1994', '1994-05-14')]"
      ]
     },
     "execution_count": 3,
     "metadata": {},
     "output_type": "execute_result"
    }
   ],
   "source": [
    "dataset[:10]"
   ]
  },
  {
   "cell_type": "markdown",
   "metadata": {},
   "source": [
    "Let's preprocess the data and map the raw text data into the index values. \n",
    "- We will set Tx=30 \n",
    "    - We assume Tx is the maximum length of the human readable date.\n",
    "    - If we get a longer input, we would have to truncate it.\n",
    "- We will set Ty=10\n",
    "    - \"YYYY-MM-DD\" is 10 characters long."
   ]
  },
  {
   "cell_type": "code",
   "execution_count": 4,
   "metadata": {},
   "outputs": [
    {
     "name": "stdout",
     "output_type": "stream",
     "text": [
      "X.shape: (10000, 30)\n",
      "Y.shape: (10000, 10)\n",
      "Xoh.shape: (10000, 30, 37)\n",
      "Yoh.shape: (10000, 10, 11)\n"
     ]
    }
   ],
   "source": [
    "Tx = 30\n",
    "Ty = 10\n",
    "X, Y, Xoh, Yoh = preprocess_data(dataset, human_vocab, machine_vocab, Tx, Ty)\n",
    "\n",
    "print(\"X.shape:\", X.shape)\n",
    "print(\"Y.shape:\", Y.shape)\n",
    "print(\"Xoh.shape:\", Xoh.shape)\n",
    "print(\"Yoh.shape:\", Yoh.shape)"
   ]
  },
  {
   "cell_type": "code",
   "execution_count": 5,
   "metadata": {},
   "outputs": [
    {
     "name": "stdout",
     "output_type": "stream",
     "text": [
      "Source date: wednesday march 20 1996\n",
      "Target date: 1996-03-20\n",
      "\n",
      "Source after preprocessing (indices): [33 17 16 25 17 29 16 13 34  0 24 13 28 15 20  0  5  3  0  4 12 12  9 36\n",
      " 36 36 36 36 36 36]\n",
      "Target after preprocessing (indices): [ 2 10 10  7  0  1  4  0  3  1]\n",
      "\n",
      "Source after preprocessing (one-hot): [[0. 0. 0. ... 0. 0. 0.]\n",
      " [0. 0. 0. ... 0. 0. 0.]\n",
      " [0. 0. 0. ... 0. 0. 0.]\n",
      " ...\n",
      " [0. 0. 0. ... 0. 0. 1.]\n",
      " [0. 0. 0. ... 0. 0. 1.]\n",
      " [0. 0. 0. ... 0. 0. 1.]]\n",
      "Target after preprocessing (one-hot): [[0. 0. 1. 0. 0. 0. 0. 0. 0. 0. 0.]\n",
      " [0. 0. 0. 0. 0. 0. 0. 0. 0. 0. 1.]\n",
      " [0. 0. 0. 0. 0. 0. 0. 0. 0. 0. 1.]\n",
      " [0. 0. 0. 0. 0. 0. 0. 1. 0. 0. 0.]\n",
      " [1. 0. 0. 0. 0. 0. 0. 0. 0. 0. 0.]\n",
      " [0. 1. 0. 0. 0. 0. 0. 0. 0. 0. 0.]\n",
      " [0. 0. 0. 0. 1. 0. 0. 0. 0. 0. 0.]\n",
      " [1. 0. 0. 0. 0. 0. 0. 0. 0. 0. 0.]\n",
      " [0. 0. 0. 1. 0. 0. 0. 0. 0. 0. 0.]\n",
      " [0. 1. 0. 0. 0. 0. 0. 0. 0. 0. 0.]]\n"
     ]
    }
   ],
   "source": [
    "index = 0\n",
    "print(\"Source date:\", dataset[index][0])\n",
    "print(\"Target date:\", dataset[index][1])\n",
    "print()\n",
    "print(\"Source after preprocessing (indices):\", X[index])\n",
    "print(\"Target after preprocessing (indices):\", Y[index])\n",
    "print()\n",
    "print(\"Source after preprocessing (one-hot):\", Xoh[index])\n",
    "print(\"Target after preprocessing (one-hot):\", Yoh[index])"
   ]
  },
  {
   "cell_type": "markdown",
   "metadata": {},
   "source": [
    "### Attention mechanism"
   ]
  },
  {
   "cell_type": "markdown",
   "metadata": {},
   "source": [
    "### Implementation Details\n",
    "   \n",
    "Let's implement this neural translator. We will start by implementing two functions: `one_step_attention()` and `model()`."
   ]
  },
  {
   "cell_type": "code",
   "execution_count": 6,
   "metadata": {},
   "outputs": [],
   "source": [
    "# Defined shared layers as global variables\n",
    "repeator = RepeatVector(Tx)\n",
    "concatenator = Concatenate(axis=-1)\n",
    "densor1 = Dense(10, activation = \"tanh\")\n",
    "densor2 = Dense(1, activation = \"relu\")\n",
    "activator = Activation(softmax, name='attention_weights') # We are using a custom softmax(axis = 1) loaded in this notebook\n",
    "dotor = Dot(axes = 1)"
   ]
  },
  {
   "cell_type": "code",
   "execution_count": 7,
   "metadata": {},
   "outputs": [],
   "source": [
    "def one_step_attention(a, s_prev):\n",
    "    \"\"\"\n",
    "    Performs one step of attention: Outputs a context vector computed as a dot product of the attention weights\n",
    "    \"alphas\" and the hidden states \"a\" of the Bi-LSTM.\n",
    "    \n",
    "    Arguments:\n",
    "    a -- hidden state output of the Bi-LSTM, numpy-array of shape (m, Tx, 2*n_a)\n",
    "    s_prev -- previous hidden state of the (post-attention) LSTM, numpy-array of shape (m, n_s)\n",
    "    \n",
    "    Returns:\n",
    "    context -- context vector, input of the next (post-attention) LSTM cell\n",
    "    \"\"\"\n",
    "\n",
    "    # Use repeator to repeat s_prev to be of shape (m, Tx, n_s) so that you can concatenate it with all hidden states \"a\" (≈ 1 line)\n",
    "    s_prev = repeator(s_prev)\n",
    "    # Use concatenator to concatenate a and s_prev on the last axis (≈ 1 line)\n",
    "    # For grading purposes, please list 'a' first and 's_prev' second, in this order.\n",
    "    concat = concatenator([a, s_prev])\n",
    "    # Use densor1 to propagate concat through a small fully-connected neural network to compute the \"intermediate energies\" variable e. (≈1 lines)\n",
    "    e = densor1(concat)\n",
    "    # Use densor2 to propagate e through a small fully-connected neural network to compute the \"energies\" variable energies. (≈1 lines)\n",
    "    energies = densor2(e)\n",
    "    # Use \"activator\" on \"energies\" to compute the attention weights \"alphas\" (≈ 1 line)\n",
    "    alphas = activator(energies)\n",
    "    # Use dotor together with \"alphas\" and \"a\" to compute the context vector to be given to the next (post-attention) LSTM-cell (≈ 1 line)\n",
    "    context = dotor([alphas, a])\n",
    "    \n",
    "    return context"
   ]
  },
  {
   "cell_type": "code",
   "execution_count": 8,
   "metadata": {},
   "outputs": [],
   "source": [
    "n_a = 32 # number of units for the pre-attention, bi-directional LSTM's hidden state 'a'\n",
    "n_s = 64 # number of units for the post-attention LSTM's hidden state \"s\"\n",
    "\n",
    "# This is the post attention LSTM cell.  \n",
    "post_activation_LSTM_cell = LSTM(n_s, return_state = True) # post-attention LSTM \n",
    "output_layer = Dense(len(machine_vocab), activation=softmax)"
   ]
  },
  {
   "cell_type": "code",
   "execution_count": 9,
   "metadata": {},
   "outputs": [],
   "source": [
    "def model(Tx, Ty, n_a, n_s, human_vocab_size, machine_vocab_size):\n",
    "    \"\"\"\n",
    "    Arguments:\n",
    "    Tx -- length of the input sequence\n",
    "    Ty -- length of the output sequence\n",
    "    n_a -- hidden state size of the Bi-LSTM\n",
    "    n_s -- hidden state size of the post-attention LSTM\n",
    "    human_vocab_size -- size of the python dictionary \"human_vocab\"\n",
    "    machine_vocab_size -- size of the python dictionary \"machine_vocab\"\n",
    "\n",
    "    Returns:\n",
    "    model -- Keras model instance\n",
    "    \"\"\"\n",
    "    \n",
    "    # Define the inputs of your model with a shape (Tx,)\n",
    "    # Define s0 (initial hidden state) and c0 (initial cell state)\n",
    "    # for the decoder LSTM with shape (n_s,)\n",
    "    X = Input(shape=(Tx, human_vocab_size))\n",
    "    s0 = Input(shape=(n_s,), name='s0')\n",
    "    c0 = Input(shape=(n_s,), name='c0')\n",
    "    s = s0\n",
    "    c = c0\n",
    "    \n",
    "    # Initialize empty list of outputs\n",
    "    outputs = []\n",
    "    \n",
    "    # Step 1: Define your pre-attention Bi-LSTM. (≈ 1 line)\n",
    "    a = Bidirectional(LSTM(units= n_a, return_sequences= True))(X)\n",
    "    \n",
    "    # Step 2: Iterate for Ty steps\n",
    "    for t in range(Ty):\n",
    "    \n",
    "        # Step 2.A: Perform one step of the attention mechanism to get back the context vector at step t (≈ 1 line)\n",
    "        context = one_step_attention(a, s)\n",
    "        \n",
    "        # Step 2.B: Apply the post-attention LSTM cell to the \"context\" vector.\n",
    "        # Don't forget to pass: initial_state = [hidden state, cell state] (≈ 1 line)\n",
    "        s, _, c = post_activation_LSTM_cell(inputs= context, initial_state=[s, c])\n",
    "        \n",
    "        # Step 2.C: Apply Dense layer to the hidden state output of the post-attention LSTM (≈ 1 line)\n",
    "        out = output_layer(inputs= s)\n",
    "        \n",
    "        # Step 2.D: Append \"out\" to the \"outputs\" list (≈ 1 line)\n",
    "        outputs.append(out)\n",
    "    \n",
    "    # Step 3: Create model instance taking three inputs and returning the list of outputs. (≈ 1 line)\n",
    "    model = Model(inputs=[X, s0, c0], outputs= outputs)\n",
    "    \n",
    "    return model"
   ]
  },
  {
   "cell_type": "code",
   "execution_count": 10,
   "metadata": {},
   "outputs": [],
   "source": [
    "model = model(Tx, Ty, n_a, n_s, len(human_vocab), len(machine_vocab))"
   ]
  },
  {
   "cell_type": "code",
   "execution_count": 11,
   "metadata": {},
   "outputs": [
    {
     "name": "stdout",
     "output_type": "stream",
     "text": [
      "__________________________________________________________________________________________________\n",
      "Layer (type)                    Output Shape         Param #     Connected to                     \n",
      "==================================================================================================\n",
      "input_1 (InputLayer)            (None, 30, 37)       0                                            \n",
      "__________________________________________________________________________________________________\n",
      "s0 (InputLayer)                 (None, 64)           0                                            \n",
      "__________________________________________________________________________________________________\n",
      "bidirectional_1 (Bidirectional) (None, 30, 64)       17920       input_1[0][0]                    \n",
      "__________________________________________________________________________________________________\n",
      "repeat_vector_1 (RepeatVector)  (None, 30, 64)       0           s0[0][0]                         \n",
      "                                                                 lstm_1[0][0]                     \n",
      "                                                                 lstm_1[1][0]                     \n",
      "                                                                 lstm_1[2][0]                     \n",
      "                                                                 lstm_1[3][0]                     \n",
      "                                                                 lstm_1[4][0]                     \n",
      "                                                                 lstm_1[5][0]                     \n",
      "                                                                 lstm_1[6][0]                     \n",
      "                                                                 lstm_1[7][0]                     \n",
      "                                                                 lstm_1[8][0]                     \n",
      "__________________________________________________________________________________________________\n",
      "concatenate_1 (Concatenate)     (None, 30, 128)      0           bidirectional_1[0][0]            \n",
      "                                                                 repeat_vector_1[0][0]            \n",
      "                                                                 bidirectional_1[0][0]            \n",
      "                                                                 repeat_vector_1[1][0]            \n",
      "                                                                 bidirectional_1[0][0]            \n",
      "                                                                 repeat_vector_1[2][0]            \n",
      "                                                                 bidirectional_1[0][0]            \n",
      "                                                                 repeat_vector_1[3][0]            \n",
      "                                                                 bidirectional_1[0][0]            \n",
      "                                                                 repeat_vector_1[4][0]            \n",
      "                                                                 bidirectional_1[0][0]            \n",
      "                                                                 repeat_vector_1[5][0]            \n",
      "                                                                 bidirectional_1[0][0]            \n",
      "                                                                 repeat_vector_1[6][0]            \n",
      "                                                                 bidirectional_1[0][0]            \n",
      "                                                                 repeat_vector_1[7][0]            \n",
      "                                                                 bidirectional_1[0][0]            \n",
      "                                                                 repeat_vector_1[8][0]            \n",
      "                                                                 bidirectional_1[0][0]            \n",
      "                                                                 repeat_vector_1[9][0]            \n",
      "__________________________________________________________________________________________________\n",
      "dense_1 (Dense)                 (None, 30, 10)       1290        concatenate_1[0][0]              \n",
      "                                                                 concatenate_1[1][0]              \n",
      "                                                                 concatenate_1[2][0]              \n",
      "                                                                 concatenate_1[3][0]              \n",
      "                                                                 concatenate_1[4][0]              \n",
      "                                                                 concatenate_1[5][0]              \n",
      "                                                                 concatenate_1[6][0]              \n",
      "                                                                 concatenate_1[7][0]              \n",
      "                                                                 concatenate_1[8][0]              \n",
      "                                                                 concatenate_1[9][0]              \n",
      "__________________________________________________________________________________________________\n",
      "dense_2 (Dense)                 (None, 30, 1)        11          dense_1[0][0]                    \n",
      "                                                                 dense_1[1][0]                    \n",
      "                                                                 dense_1[2][0]                    \n",
      "                                                                 dense_1[3][0]                    \n",
      "                                                                 dense_1[4][0]                    \n",
      "                                                                 dense_1[5][0]                    \n",
      "                                                                 dense_1[6][0]                    \n",
      "                                                                 dense_1[7][0]                    \n",
      "                                                                 dense_1[8][0]                    \n",
      "                                                                 dense_1[9][0]                    \n",
      "__________________________________________________________________________________________________\n",
      "attention_weights (Activation)  (None, 30, 1)        0           dense_2[0][0]                    \n",
      "                                                                 dense_2[1][0]                    \n",
      "                                                                 dense_2[2][0]                    \n",
      "                                                                 dense_2[3][0]                    \n",
      "                                                                 dense_2[4][0]                    \n",
      "                                                                 dense_2[5][0]                    \n",
      "                                                                 dense_2[6][0]                    \n",
      "                                                                 dense_2[7][0]                    \n",
      "                                                                 dense_2[8][0]                    \n",
      "                                                                 dense_2[9][0]                    \n",
      "__________________________________________________________________________________________________\n",
      "dot_1 (Dot)                     (None, 1, 64)        0           attention_weights[0][0]          \n",
      "                                                                 bidirectional_1[0][0]            \n",
      "                                                                 attention_weights[1][0]          \n",
      "                                                                 bidirectional_1[0][0]            \n",
      "                                                                 attention_weights[2][0]          \n",
      "                                                                 bidirectional_1[0][0]            \n",
      "                                                                 attention_weights[3][0]          \n",
      "                                                                 bidirectional_1[0][0]            \n"
     ]
    },
    {
     "name": "stdout",
     "output_type": "stream",
     "text": [
      "                                                                 attention_weights[4][0]          \n",
      "                                                                 bidirectional_1[0][0]            \n",
      "                                                                 attention_weights[5][0]          \n",
      "                                                                 bidirectional_1[0][0]            \n",
      "                                                                 attention_weights[6][0]          \n",
      "                                                                 bidirectional_1[0][0]            \n",
      "                                                                 attention_weights[7][0]          \n",
      "                                                                 bidirectional_1[0][0]            \n",
      "                                                                 attention_weights[8][0]          \n",
      "                                                                 bidirectional_1[0][0]            \n",
      "                                                                 attention_weights[9][0]          \n",
      "                                                                 bidirectional_1[0][0]            \n",
      "__________________________________________________________________________________________________\n",
      "c0 (InputLayer)                 (None, 64)           0                                            \n",
      "__________________________________________________________________________________________________\n",
      "lstm_1 (LSTM)                   [(None, 64), (None,  33024       dot_1[0][0]                      \n",
      "                                                                 s0[0][0]                         \n",
      "                                                                 c0[0][0]                         \n",
      "                                                                 dot_1[1][0]                      \n",
      "                                                                 lstm_1[0][0]                     \n",
      "                                                                 lstm_1[0][2]                     \n",
      "                                                                 dot_1[2][0]                      \n",
      "                                                                 lstm_1[1][0]                     \n",
      "                                                                 lstm_1[1][2]                     \n",
      "                                                                 dot_1[3][0]                      \n",
      "                                                                 lstm_1[2][0]                     \n",
      "                                                                 lstm_1[2][2]                     \n",
      "                                                                 dot_1[4][0]                      \n",
      "                                                                 lstm_1[3][0]                     \n",
      "                                                                 lstm_1[3][2]                     \n",
      "                                                                 dot_1[5][0]                      \n",
      "                                                                 lstm_1[4][0]                     \n",
      "                                                                 lstm_1[4][2]                     \n",
      "                                                                 dot_1[6][0]                      \n",
      "                                                                 lstm_1[5][0]                     \n",
      "                                                                 lstm_1[5][2]                     \n",
      "                                                                 dot_1[7][0]                      \n",
      "                                                                 lstm_1[6][0]                     \n",
      "                                                                 lstm_1[6][2]                     \n",
      "                                                                 dot_1[8][0]                      \n",
      "                                                                 lstm_1[7][0]                     \n",
      "                                                                 lstm_1[7][2]                     \n",
      "                                                                 dot_1[9][0]                      \n",
      "                                                                 lstm_1[8][0]                     \n",
      "                                                                 lstm_1[8][2]                     \n",
      "__________________________________________________________________________________________________\n",
      "dense_3 (Dense)                 (None, 11)           715         lstm_1[0][0]                     \n",
      "                                                                 lstm_1[1][0]                     \n",
      "                                                                 lstm_1[2][0]                     \n",
      "                                                                 lstm_1[3][0]                     \n",
      "                                                                 lstm_1[4][0]                     \n",
      "                                                                 lstm_1[5][0]                     \n",
      "                                                                 lstm_1[6][0]                     \n",
      "                                                                 lstm_1[7][0]                     \n",
      "                                                                 lstm_1[8][0]                     \n",
      "                                                                 lstm_1[9][0]                     \n",
      "==================================================================================================\n",
      "Total params: 52,960\n",
      "Trainable params: 52,960\n",
      "Non-trainable params: 0\n",
      "__________________________________________________________________________________________________\n"
     ]
    }
   ],
   "source": [
    "model.summary()"
   ]
  },
  {
   "cell_type": "code",
   "execution_count": 12,
   "metadata": {},
   "outputs": [],
   "source": [
    "### Optimizer \n",
    "opt = Adam(lr=0.005, beta_1=0.9, beta_2=0.999, decay=0.01)\n",
    "model.compile(optimizer= opt, loss='categorical_crossentropy', metrics=['accuracy'])"
   ]
  },
  {
   "cell_type": "markdown",
   "metadata": {},
   "source": [
    "#### Define inputs and outputs, and fit the model\n",
    "The last step is to define all your inputs and outputs to fit the model:\n",
    "- We have input X of shape $(m = 10000, T_x = 30)$ containing the training examples.\n",
    "- We need to create `s0` and `c0` to initialize your `post_attention_LSTM_cell` with zeros.\n",
    "- Given the `model()` we coded, we need the \"outputs\" to be a list of 10 elements of shape (m, T_y). \n",
    "    - The list `outputs[i][0], ..., outputs[i][Ty]` represents the true labels (characters) corresponding to the $i^{th}$ training example (`X[i]`). \n",
    "    - `outputs[i][j]` is the true label of the $j^{th}$ character in the $i^{th}$ training example."
   ]
  },
  {
   "cell_type": "code",
   "execution_count": 13,
   "metadata": {},
   "outputs": [],
   "source": [
    "s0 = np.zeros((m, n_s))\n",
    "c0 = np.zeros((m, n_s))\n",
    "outputs = list(Yoh.swapaxes(0,1))"
   ]
  },
  {
   "cell_type": "code",
   "execution_count": 14,
   "metadata": {},
   "outputs": [
    {
     "name": "stdout",
     "output_type": "stream",
     "text": [
      "Epoch 1/1\n"
     ]
    },
    {
     "name": "stdout",
     "output_type": "stream",
     "text": [
      " 2800/10000 [=======>......................] - ETA: 25:14 - loss: 24.0220 - dense_3_loss: 2.3955 - dense_3_acc: 0.0400 - dense_3_acc_1: 0.5200 - dense_3_acc_2: 0.1600 - dense_3_acc_3: 0.0800 - dense_3_acc_4: 0.0000e+00 - dense_3_acc_5: 0.0000e+00 - dense_3_acc_6: 0.0300 - dense_3_acc_7: 0.0000e+00 - dense_3_acc_8: 0.0500 - dense_3_acc_9: 0.11 - ETA: 12:38 - loss: 23.8352 - dense_3_loss: 2.4031 - dense_3_acc: 0.0200 - dense_3_acc_1: 0.2950 - dense_3_acc_2: 0.0850 - dense_3_acc_3: 0.0400 - dense_3_acc_4: 0.4950 - dense_3_acc_5: 0.0000e+00 - dense_3_acc_6: 0.0150 - dense_3_acc_7: 0.4950 - dense_3_acc_8: 0.0250 - dense_3_acc_9: 0.0550       - ETA: 8:26 - loss: 23.6135 - dense_3_loss: 2.4178 - dense_3_acc: 0.0133 - dense_3_acc_1: 0.1967 - dense_3_acc_2: 0.0567 - dense_3_acc_3: 0.0267 - dense_3_acc_4: 0.6633 - dense_3_acc_5: 0.0000e+00 - dense_3_acc_6: 0.0100 - dense_3_acc_7: 0.6633 - dense_3_acc_8: 0.0167 - dense_3_acc_9: 0.0367 - ETA: 6:19 - loss: 23.3680 - dense_3_loss: 2.4489 - dense_3_acc: 0.0100 - dense_3_acc_1: 0.1475 - dense_3_acc_2: 0.0425 - dense_3_acc_3: 0.0200 - dense_3_acc_4: 0.7475 - dense_3_acc_5: 0.0000e+00 - dense_3_acc_6: 0.0075 - dense_3_acc_7: 0.7475 - dense_3_acc_8: 0.0125 - dense_3_acc_9: 0.027 - ETA: 5:03 - loss: 23.1018 - dense_3_loss: 2.5170 - dense_3_acc: 0.0080 - dense_3_acc_1: 0.1180 - dense_3_acc_2: 0.0340 - dense_3_acc_3: 0.0160 - dense_3_acc_4: 0.7980 - dense_3_acc_5: 0.0000e+00 - dense_3_acc_6: 0.0060 - dense_3_acc_7: 0.7980 - dense_3_acc_8: 0.0100 - dense_3_acc_9: 0.022 - ETA: 4:12 - loss: 22.9444 - dense_3_loss: 2.6509 - dense_3_acc: 0.0067 - dense_3_acc_1: 0.0983 - dense_3_acc_2: 0.0283 - dense_3_acc_3: 0.0133 - dense_3_acc_4: 0.8317 - dense_3_acc_5: 0.0000e+00 - dense_3_acc_6: 0.0050 - dense_3_acc_7: 0.8317 - dense_3_acc_8: 0.0083 - dense_3_acc_9: 0.018 - ETA: 3:36 - loss: 22.7670 - dense_3_loss: 2.7259 - dense_3_acc: 0.0057 - dense_3_acc_1: 0.0843 - dense_3_acc_2: 0.0243 - dense_3_acc_3: 0.0114 - dense_3_acc_4: 0.8557 - dense_3_acc_5: 0.0000e+00 - dense_3_acc_6: 0.0043 - dense_3_acc_7: 0.8557 - dense_3_acc_8: 0.0071 - dense_3_acc_9: 0.015 - ETA: 3:09 - loss: 22.6363 - dense_3_loss: 2.7662 - dense_3_acc: 0.0050 - dense_3_acc_1: 0.0737 - dense_3_acc_2: 0.0212 - dense_3_acc_3: 0.0100 - dense_3_acc_4: 0.8738 - dense_3_acc_5: 0.0000e+00 - dense_3_acc_6: 0.0037 - dense_3_acc_7: 0.8738 - dense_3_acc_8: 0.0063 - dense_3_acc_9: 0.013 - ETA: 2:48 - loss: 22.5227 - dense_3_loss: 2.7913 - dense_3_acc: 0.0044 - dense_3_acc_1: 0.1067 - dense_3_acc_2: 0.0189 - dense_3_acc_3: 0.0089 - dense_3_acc_4: 0.8878 - dense_3_acc_5: 0.0000e+00 - dense_3_acc_6: 0.0033 - dense_3_acc_7: 0.8878 - dense_3_acc_8: 0.0056 - dense_3_acc_9: 0.012 - ETA: 2:31 - loss: 22.4058 - dense_3_loss: 2.8003 - dense_3_acc: 0.0040 - dense_3_acc_1: 0.1350 - dense_3_acc_2: 0.0340 - dense_3_acc_3: 0.0080 - dense_3_acc_4: 0.8990 - dense_3_acc_5: 0.0000e+00 - dense_3_acc_6: 0.0030 - dense_3_acc_7: 0.8990 - dense_3_acc_8: 0.0050 - dense_3_acc_9: 0.011 - ETA: 2:17 - loss: 22.3165 - dense_3_loss: 2.8133 - dense_3_acc: 0.0036 - dense_3_acc_1: 0.1609 - dense_3_acc_2: 0.0436 - dense_3_acc_3: 0.0109 - dense_3_acc_4: 0.9082 - dense_3_acc_5: 0.0000e+00 - dense_3_acc_6: 0.0027 - dense_3_acc_7: 0.9082 - dense_3_acc_8: 0.0045 - dense_3_acc_9: 0.010 - ETA: 2:06 - loss: 22.2331 - dense_3_loss: 2.8082 - dense_3_acc: 0.0033 - dense_3_acc_1: 0.1783 - dense_3_acc_2: 0.0517 - dense_3_acc_3: 0.0133 - dense_3_acc_4: 0.9150 - dense_3_acc_5: 0.0000e+00 - dense_3_acc_6: 0.0025 - dense_3_acc_7: 0.9158 - dense_3_acc_8: 0.0042 - dense_3_acc_9: 0.009 - ETA: 1:56 - loss: 22.1678 - dense_3_loss: 2.8015 - dense_3_acc: 0.0031 - dense_3_acc_1: 0.1915 - dense_3_acc_2: 0.0638 - dense_3_acc_3: 0.0200 - dense_3_acc_4: 0.9185 - dense_3_acc_5: 0.0000e+00 - dense_3_acc_6: 0.0023 - dense_3_acc_7: 0.9223 - dense_3_acc_8: 0.0038 - dense_3_acc_9: 0.008 - ETA: 1:47 - loss: 22.0968 - dense_3_loss: 2.7951 - dense_3_acc: 0.0029 - dense_3_acc_1: 0.2057 - dense_3_acc_2: 0.0700 - dense_3_acc_3: 0.0207 - dense_3_acc_4: 0.9243 - dense_3_acc_5: 0.0000e+00 - dense_3_acc_6: 0.0021 - dense_3_acc_7: 0.9279 - dense_3_acc_8: 0.0036 - dense_3_acc_9: 0.007 - ETA: 1:40 - loss: 22.0156 - dense_3_loss: 2.7905 - dense_3_acc: 0.0027 - dense_3_acc_1: 0.2267 - dense_3_acc_2: 0.0813 - dense_3_acc_3: 0.0273 - dense_3_acc_4: 0.9293 - dense_3_acc_5: 0.0000e+00 - dense_3_acc_6: 0.0020 - dense_3_acc_7: 0.9327 - dense_3_acc_8: 0.0033 - dense_3_acc_9: 0.007 - ETA: 1:33 - loss: 21.9374 - dense_3_loss: 2.7844 - dense_3_acc: 0.0025 - dense_3_acc_1: 0.2406 - dense_3_acc_2: 0.0887 - dense_3_acc_3: 0.0331 - dense_3_acc_4: 0.9337 - dense_3_acc_5: 0.0000e+00 - dense_3_acc_6: 0.0019 - dense_3_acc_7: 0.9369 - dense_3_acc_8: 0.0031 - dense_3_acc_9: 0.006 - ETA: 1:28 - loss: 21.8700 - dense_3_loss: 2.7835 - dense_3_acc: 0.0024 - dense_3_acc_1: 0.2429 - dense_3_acc_2: 0.0924 - dense_3_acc_3: 0.0359 - dense_3_acc_4: 0.9376 - dense_3_acc_5: 0.0000e+00 - dense_3_acc_6: 0.0018 - dense_3_acc_7: 0.9406 - dense_3_acc_8: 0.0029 - dense_3_acc_9: 0.006 - ETA: 1:22 - loss: 21.7992 - dense_3_loss: 2.7836 - dense_3_acc: 0.0022 - dense_3_acc_1: 0.2478 - dense_3_acc_2: 0.0961 - dense_3_acc_3: 0.0417 - dense_3_acc_4: 0.9411 - dense_3_acc_5: 0.0000e+00 - dense_3_acc_6: 0.0017 - dense_3_acc_7: 0.9439 - dense_3_acc_8: 0.0028 - dense_3_acc_9: 0.006 - ETA: 1:18 - loss: 21.7280 - dense_3_loss: 2.7889 - dense_3_acc: 0.0021 - dense_3_acc_1: 0.2568 - dense_3_acc_2: 0.1021 - dense_3_acc_3: 0.0453 - dense_3_acc_4: 0.9442 - dense_3_acc_5: 0.0000e+00 - dense_3_acc_6: 0.0016 - dense_3_acc_7: 0.9468 - dense_3_acc_8: 0.0026 - dense_3_acc_9: 0.005 - ETA: 1:14 - loss: 21.6685 - dense_3_loss: 2.7975 - dense_3_acc: 0.0020 - dense_3_acc_1: 0.2745 - dense_3_acc_2: 0.1055 - dense_3_acc_3: 0.0470 - dense_3_acc_4: 0.9470 - dense_3_acc_5: 0.0000e+00 - dense_3_acc_6: 0.0015 - dense_3_acc_7: 0.9495 - dense_3_acc_8: 0.0025 - dense_3_acc_9: 0.005 - ETA: 1:10 - loss: 21.6111 - dense_3_loss: 2.8072 - dense_3_acc: 0.0019 - dense_3_acc_1: 0.2924 - dense_3_acc_2: 0.1062 - dense_3_acc_3: 0.0500 - dense_3_acc_4: 0.9495 - dense_3_acc_5: 0.0000e+00 - dense_3_acc_6: 0.0014 - dense_3_acc_7: 0.9519 - dense_3_acc_8: 0.0024 - dense_3_acc_9: 0.005 - ETA: 1:07 - loss: 21.5369 - dense_3_loss: 2.8023 - dense_3_acc: 0.0018 - dense_3_acc_1: 0.3100 - dense_3_acc_2: 0.1114 - dense_3_acc_3: 0.0527 - dense_3_acc_4: 0.9518 - dense_3_acc_5: 0.0000e+00 - dense_3_acc_6: 0.0014 - dense_3_acc_7: 0.9541 - dense_3_acc_8: 0.0023 - dense_3_acc_9: 0.005 - ETA: 1:03 - loss: 21.4678 - dense_3_loss: 2.8017 - dense_3_acc: 0.0017 - dense_3_acc_1: 0.3265 - dense_3_acc_2: 0.1183 - dense_3_acc_3: 0.0548 - dense_3_acc_4: 0.9539 - dense_3_acc_5: 0.0000e+00 - dense_3_acc_6: 0.0013 - dense_3_acc_7: 0.9561 - dense_3_acc_8: 0.0022 - dense_3_acc_9: 0.004 - ETA: 1:00 - loss: 21.4023 - dense_3_loss: 2.7974 - dense_3_acc: 0.0017 - dense_3_acc_1: 0.3396 - dense_3_acc_2: 0.1225 - dense_3_acc_3: 0.0537 - dense_3_acc_4: 0.9558 - dense_3_acc_5: 0.0000e+00 - dense_3_acc_6: 0.0012 - dense_3_acc_7: 0.9579 - dense_3_acc_8: 0.0158 - dense_3_acc_9: 0.009 - ETA: 58s - loss: 21.3392 - dense_3_loss: 2.7927 - dense_3_acc: 0.0016 - dense_3_acc_1: 0.3488 - dense_3_acc_2: 0.1240 - dense_3_acc_3: 0.0524 - dense_3_acc_4: 0.9576 - dense_3_acc_5: 0.0000e+00 - dense_3_acc_6: 0.0012 - dense_3_acc_7: 0.9596 - dense_3_acc_8: 0.0152 - dense_3_acc_9: 0.015 - ETA: 55s - loss: 21.2746 - dense_3_loss: 2.7898 - dense_3_acc: 0.0015 - dense_3_acc_1: 0.3604 - dense_3_acc_2: 0.1304 - dense_3_acc_3: 0.0504 - dense_3_acc_4: 0.9592 - dense_3_acc_5: 0.0000e+00 - dense_3_acc_6: 0.0012 - dense_3_acc_7: 0.9612 - dense_3_acc_8: 0.0146 - dense_3_acc_9: 0.01 - ETA: 53s - loss: 21.2103 - dense_3_loss: 2.7875 - dense_3_acc: 0.0015 - dense_3_acc_1: 0.3696 - dense_3_acc_2: 0.1326 - dense_3_acc_3: 0.0485 - dense_3_acc_4: 0.9607 - dense_3_acc_5: 0.0000e+00 - dense_3_acc_6: 0.0011 - dense_3_acc_7: 0.9626 - dense_3_acc_8: 0.0141 - dense_3_acc_9: 0.01 - ETA: 51s - loss: 21.1552 - dense_3_loss: 2.7867 - dense_3_acc: 0.0014 - dense_3_acc_1: 0.3779 - dense_3_acc_2: 0.1336 - dense_3_acc_3: 0.0468 - dense_3_acc_4: 0.9621 - dense_3_acc_5: 0.0000e+00 - dense_3_acc_6: 0.0011 - dense_3_acc_7: 0.9586 - dense_3_acc_8: 0.0275 - dense_3_acc_9: 0.0182\b\b\b\b\b\b\b\b\b\b\b\b\b\b\b\b\b\b\b\b\b\b\b\b\b\b\b\b\b\b\b\b\b\b\b\b\b\b\b\b\b\b\b\b\b\b\b\b\b\b\b\b\b\b\b\b\b\b\b\b\b\b\b\b\b\b\b\b\b\b\b\b\b\b\b\b\b\b\b\b\b\b\b\b\b\b\b\b\b\b\b\b\b\b\b\b\b\b\b\b\b\b\b\b\b\b\b\b\b\b\b\b\b\b\b\b\b\b\b\b\b\b\b\b\b\b\b\b\b\b\b\b\b\b\b\b\b\b\b\b\b\b\b\b\b\b\b\b\b\b\b\b\b\b\b\b\b\b\b\b\b\b\b\b\b\b\b\b\b\b\b\b\b\b\b\b\b\b\b\b\b\b\b\b\b\b\b\b\b\b\b\b\b\b\b\b\b\b\b\b\b\b\b\b\b\b\b\b\b\b\b\b\b\b\b\b\b\b\b\b\b\b\b\b\b\b\b\b\b\b\b\b\b\b\b\b\b\b\b\b\b\b\b\b\b\b\b\b\b\b\b\b\b\b\b\b\b\b\b\b\b\b\b\b\b\b\b\b\b\b\b\b\b\b\b\b\b\b\b\b\b\b\b\b\b\b\b\b\b\b\b\b\b\b\b\b\b\b\b\b\b\b\b\b\b\b\b\b\b\b\b\b\b\b\b\b\b\b\b\b\b\b\b\b\b\b\b\b\b\b\b\b\b\b\b\b"
     ]
    },
    {
     "name": "stdout",
     "output_type": "stream",
     "text": [
      " 5600/10000 [===============>..............] - ETA: 49s - loss: 21.0959 - dense_3_loss: 2.7892 - dense_3_acc: 0.0014 - dense_3_acc_1: 0.3866 - dense_3_acc_2: 0.1366 - dense_3_acc_3: 0.0452 - dense_3_acc_4: 0.9634 - dense_3_acc_5: 0.0000e+00 - dense_3_acc_6: 0.0010 - dense_3_acc_7: 0.9576 - dense_3_acc_8: 0.0386 - dense_3_acc_9: 0.02 - ETA: 47s - loss: 21.0381 - dense_3_loss: 2.7877 - dense_3_acc: 0.0013 - dense_3_acc_1: 0.3923 - dense_3_acc_2: 0.1383 - dense_3_acc_3: 0.0437 - dense_3_acc_4: 0.9647 - dense_3_acc_5: 0.0000e+00 - dense_3_acc_6: 1.0000e-03 - dense_3_acc_7: 0.9590 - dense_3_acc_8: 0.0373 - dense_3_acc_9: 0.02 - ETA: 45s - loss: 20.9802 - dense_3_loss: 2.7884 - dense_3_acc: 0.0148 - dense_3_acc_1: 0.3997 - dense_3_acc_2: 0.1416 - dense_3_acc_3: 0.0468 - dense_3_acc_4: 0.9658 - dense_3_acc_5: 0.0000e+00 - dense_3_acc_6: 9.6774e-04 - dense_3_acc_7: 0.9603 - dense_3_acc_8: 0.0361 - dense_3_acc_9: 0.02 - ETA: 43s - loss: 20.9217 - dense_3_loss: 2.7873 - dense_3_acc: 0.0337 - dense_3_acc_1: 0.4066 - dense_3_acc_2: 0.1453 - dense_3_acc_3: 0.0469 - dense_3_acc_4: 0.9669 - dense_3_acc_5: 0.0000e+00 - dense_3_acc_6: 9.3750e-04 - dense_3_acc_7: 0.9616 - dense_3_acc_8: 0.0409 - dense_3_acc_9: 0.02 - ETA: 42s - loss: 20.8630 - dense_3_loss: 2.7844 - dense_3_acc: 0.0518 - dense_3_acc_1: 0.4133 - dense_3_acc_2: 0.1464 - dense_3_acc_3: 0.0455 - dense_3_acc_4: 0.9679 - dense_3_acc_5: 0.0000e+00 - dense_3_acc_6: 9.0909e-04 - dense_3_acc_7: 0.9627 - dense_3_acc_8: 0.0485 - dense_3_acc_9: 0.03 - ETA: 40s - loss: 20.8107 - dense_3_loss: 2.7843 - dense_3_acc: 0.0671 - dense_3_acc_1: 0.4179 - dense_3_acc_2: 0.1476 - dense_3_acc_3: 0.0441 - dense_3_acc_4: 0.9688 - dense_3_acc_5: 0.0000e+00 - dense_3_acc_6: 8.8235e-04 - dense_3_acc_7: 0.9638 - dense_3_acc_8: 0.0526 - dense_3_acc_9: 0.03 - ETA: 39s - loss: 20.7562 - dense_3_loss: 2.7839 - dense_3_acc: 0.0803 - dense_3_acc_1: 0.4211 - dense_3_acc_2: 0.1497 - dense_3_acc_3: 0.0460 - dense_3_acc_4: 0.9697 - dense_3_acc_5: 0.0000e+00 - dense_3_acc_6: 8.5714e-04 - dense_3_acc_7: 0.9649 - dense_3_acc_8: 0.0511 - dense_3_acc_9: 0.03 - ETA: 37s - loss: 20.7008 - dense_3_loss: 2.7859 - dense_3_acc: 0.0944 - dense_3_acc_1: 0.4258 - dense_3_acc_2: 0.1514 - dense_3_acc_3: 0.0500 - dense_3_acc_4: 0.9706 - dense_3_acc_5: 0.0000e+00 - dense_3_acc_6: 8.3333e-04 - dense_3_acc_7: 0.9658 - dense_3_acc_8: 0.0497 - dense_3_acc_9: 0.03 - ETA: 36s - loss: 20.6479 - dense_3_loss: 2.7833 - dense_3_acc: 0.1078 - dense_3_acc_1: 0.4303 - dense_3_acc_2: 0.1527 - dense_3_acc_3: 0.0508 - dense_3_acc_4: 0.9714 - dense_3_acc_5: 0.0000e+00 - dense_3_acc_6: 8.1081e-04 - dense_3_acc_7: 0.9668 - dense_3_acc_8: 0.0541 - dense_3_acc_9: 0.04 - ETA: 35s - loss: 20.5955 - dense_3_loss: 2.7857 - dense_3_acc: 0.1197 - dense_3_acc_1: 0.4337 - dense_3_acc_2: 0.1539 - dense_3_acc_3: 0.0539 - dense_3_acc_4: 0.9721 - dense_3_acc_5: 0.0000e+00 - dense_3_acc_6: 7.8947e-04 - dense_3_acc_7: 0.9676 - dense_3_acc_8: 0.0613 - dense_3_acc_9: 0.04 - ETA: 33s - loss: 20.5401 - dense_3_loss: 2.7858 - dense_3_acc: 0.1315 - dense_3_acc_1: 0.4374 - dense_3_acc_2: 0.1579 - dense_3_acc_3: 0.0533 - dense_3_acc_4: 0.9728 - dense_3_acc_5: 0.0000e+00 - dense_3_acc_6: 7.6923e-04 - dense_3_acc_7: 0.9685 - dense_3_acc_8: 0.0695 - dense_3_acc_9: 0.04 - ETA: 32s - loss: 20.4924 - dense_3_loss: 2.7845 - dense_3_acc: 0.1425 - dense_3_acc_1: 0.4407 - dense_3_acc_2: 0.1607 - dense_3_acc_3: 0.0527 - dense_3_acc_4: 0.9735 - dense_3_acc_5: 0.0000e+00 - dense_3_acc_6: 7.5000e-04 - dense_3_acc_7: 0.9693 - dense_3_acc_8: 0.0680 - dense_3_acc_9: 0.05 - ETA: 31s - loss: 20.4405 - dense_3_loss: 2.7858 - dense_3_acc: 0.1554 - dense_3_acc_1: 0.4463 - dense_3_acc_2: 0.1627 - dense_3_acc_3: 0.0534 - dense_3_acc_4: 0.9741 - dense_3_acc_5: 0.0000e+00 - dense_3_acc_6: 7.3171e-04 - dense_3_acc_7: 0.9700 - dense_3_acc_8: 0.0663 - dense_3_acc_9: 0.05 - ETA: 30s - loss: 20.3903 - dense_3_loss: 2.7857 - dense_3_acc: 0.1643 - dense_3_acc_1: 0.4483 - dense_3_acc_2: 0.1636 - dense_3_acc_3: 0.0524 - dense_3_acc_4: 0.9748 - dense_3_acc_5: 0.0000e+00 - dense_3_acc_6: 7.1429e-04 - dense_3_acc_7: 0.9707 - dense_3_acc_8: 0.0648 - dense_3_acc_9: 0.05 - ETA: 29s - loss: 20.3356 - dense_3_loss: 2.7837 - dense_3_acc: 0.1751 - dense_3_acc_1: 0.4526 - dense_3_acc_2: 0.1681 - dense_3_acc_3: 0.0519 - dense_3_acc_4: 0.9753 - dense_3_acc_5: 0.0000e+00 - dense_3_acc_6: 6.9767e-04 - dense_3_acc_7: 0.9714 - dense_3_acc_8: 0.0702 - dense_3_acc_9: 0.05 - ETA: 28s - loss: 20.2865 - dense_3_loss: 2.7807 - dense_3_acc: 0.1848 - dense_3_acc_1: 0.4559 - dense_3_acc_2: 0.1700 - dense_3_acc_3: 0.0511 - dense_3_acc_4: 0.9759 - dense_3_acc_5: 0.0000e+00 - dense_3_acc_6: 6.8182e-04 - dense_3_acc_7: 0.9718 - dense_3_acc_8: 0.0770 - dense_3_acc_9: 0.05 - ETA: 27s - loss: 20.2347 - dense_3_loss: 2.7791 - dense_3_acc: 0.1949 - dense_3_acc_1: 0.4600 - dense_3_acc_2: 0.1727 - dense_3_acc_3: 0.0509 - dense_3_acc_4: 0.9764 - dense_3_acc_5: 0.0000e+00 - dense_3_acc_6: 6.6667e-04 - dense_3_acc_7: 0.9724 - dense_3_acc_8: 0.0829 - dense_3_acc_9: 0.05 - ETA: 26s - loss: 20.1872 - dense_3_loss: 2.7787 - dense_3_acc: 0.2033 - dense_3_acc_1: 0.4626 - dense_3_acc_2: 0.1748 - dense_3_acc_3: 0.0502 - dense_3_acc_4: 0.9770 - dense_3_acc_5: 0.0000e+00 - dense_3_acc_6: 6.5217e-04 - dense_3_acc_7: 0.9730 - dense_3_acc_8: 0.0820 - dense_3_acc_9: 0.05 - ETA: 26s - loss: 20.1366 - dense_3_loss: 2.7766 - dense_3_acc: 0.2115 - dense_3_acc_1: 0.4653 - dense_3_acc_2: 0.1779 - dense_3_acc_3: 0.0496 - dense_3_acc_4: 0.9774 - dense_3_acc_5: 0.0000e+00 - dense_3_acc_6: 6.3830e-04 - dense_3_acc_7: 0.9736 - dense_3_acc_8: 0.0826 - dense_3_acc_9: 0.06 - ETA: 25s - loss: 20.0906 - dense_3_loss: 2.7780 - dense_3_acc: 0.2204 - dense_3_acc_1: 0.4690 - dense_3_acc_2: 0.1802 - dense_3_acc_3: 0.0494 - dense_3_acc_4: 0.9779 - dense_3_acc_5: 0.0000e+00 - dense_3_acc_6: 6.2500e-04 - dense_3_acc_7: 0.9742 - dense_3_acc_8: 0.0871 - dense_3_acc_9: 0.06 - ETA: 24s - loss: 20.0403 - dense_3_loss: 2.7774 - dense_3_acc: 0.2288 - dense_3_acc_1: 0.4722 - dense_3_acc_2: 0.1837 - dense_3_acc_3: 0.0488 - dense_3_acc_4: 0.9784 - dense_3_acc_5: 0.0000e+00 - dense_3_acc_6: 6.1224e-04 - dense_3_acc_7: 0.9737 - dense_3_acc_8: 0.0939 - dense_3_acc_9: 0.06 - ETA: 23s - loss: 19.9952 - dense_3_loss: 2.7773 - dense_3_acc: 0.2352 - dense_3_acc_1: 0.4738 - dense_3_acc_2: 0.1858 - dense_3_acc_3: 0.0478 - dense_3_acc_4: 0.9788 - dense_3_acc_5: 0.0000e+00 - dense_3_acc_6: 6.0000e-04 - dense_3_acc_7: 0.9742 - dense_3_acc_8: 0.0956 - dense_3_acc_9: 0.06 - ETA: 22s - loss: 19.9464 - dense_3_loss: 2.7750 - dense_3_acc: 0.2410 - dense_3_acc_1: 0.4749 - dense_3_acc_2: 0.1876 - dense_3_acc_3: 0.0475 - dense_3_acc_4: 0.9792 - dense_3_acc_5: 0.0000e+00 - dense_3_acc_6: 5.8824e-04 - dense_3_acc_7: 0.9747 - dense_3_acc_8: 0.0945 - dense_3_acc_9: 0.06 - ETA: 22s - loss: 19.8983 - dense_3_loss: 2.7741 - dense_3_acc: 0.2483 - dense_3_acc_1: 0.4777 - dense_3_acc_2: 0.1894 - dense_3_acc_3: 0.0471 - dense_3_acc_4: 0.9796 - dense_3_acc_5: 0.0000e+00 - dense_3_acc_6: 5.7692e-04 - dense_3_acc_7: 0.9752 - dense_3_acc_8: 0.0935 - dense_3_acc_9: 0.06 - ETA: 21s - loss: 19.8537 - dense_3_loss: 2.7711 - dense_3_acc: 0.2549 - dense_3_acc_1: 0.4800 - dense_3_acc_2: 0.1911 - dense_3_acc_3: 0.0483 - dense_3_acc_4: 0.9800 - dense_3_acc_5: 0.0000e+00 - dense_3_acc_6: 5.6604e-04 - dense_3_acc_7: 0.9757 - dense_3_acc_8: 0.0957 - dense_3_acc_9: 0.06 - ETA: 20s - loss: 19.8001 - dense_3_loss: 2.7678 - dense_3_acc: 0.2620 - dense_3_acc_1: 0.4830 - dense_3_acc_2: 0.1939 - dense_3_acc_3: 0.0489 - dense_3_acc_4: 0.9804 - dense_3_acc_5: 0.0000e+00 - dense_3_acc_6: 5.5556e-04 - dense_3_acc_7: 0.9754 - dense_3_acc_8: 0.1009 - dense_3_acc_9: 0.06 - ETA: 20s - loss: 19.7596 - dense_3_loss: 2.7688 - dense_3_acc: 0.2682 - dense_3_acc_1: 0.4851 - dense_3_acc_2: 0.1945 - dense_3_acc_3: 0.0480 - dense_3_acc_4: 0.9807 - dense_3_acc_5: 0.0000e+00 - dense_3_acc_6: 5.4545e-04 - dense_3_acc_7: 0.9758 - dense_3_acc_8: 0.1062 - dense_3_acc_9: 0.06 - ETA: 19s - loss: 19.7180 - dense_3_loss: 2.7676 - dense_3_acc: 0.2725 - dense_3_acc_1: 0.4855 - dense_3_acc_2: 0.1968 - dense_3_acc_3: 0.0471 - dense_3_acc_4: 0.9811 - dense_3_acc_5: 0.0000e+00 - dense_3_acc_6: 5.3571e-04 - dense_3_acc_7: 0.9763 - dense_3_acc_8: 0.1086 - dense_3_acc_9: 0.0711"
     ]
    },
    {
     "name": "stdout",
     "output_type": "stream",
     "text": [
      " 8500/10000 [========================>.....] - ETA: 18s - loss: 19.6694 - dense_3_loss: 2.7659 - dense_3_acc: 0.2789 - dense_3_acc_1: 0.4882 - dense_3_acc_2: 0.1995 - dense_3_acc_3: 0.0467 - dense_3_acc_4: 0.9814 - dense_3_acc_5: 0.0000e+00 - dense_3_acc_6: 5.2632e-04 - dense_3_acc_7: 0.9767 - dense_3_acc_8: 0.1067 - dense_3_acc_9: 0.07 - ETA: 18s - loss: 19.6235 - dense_3_loss: 2.7628 - dense_3_acc: 0.2843 - dense_3_acc_1: 0.4900 - dense_3_acc_2: 0.2012 - dense_3_acc_3: 0.0466 - dense_3_acc_4: 0.9817 - dense_3_acc_5: 0.0000e+00 - dense_3_acc_6: 5.1724e-04 - dense_3_acc_7: 0.9771 - dense_3_acc_8: 0.1100 - dense_3_acc_9: 0.07 - ETA: 17s - loss: 19.5748 - dense_3_loss: 2.7598 - dense_3_acc: 0.2900 - dense_3_acc_1: 0.4927 - dense_3_acc_2: 0.2037 - dense_3_acc_3: 0.0463 - dense_3_acc_4: 0.9820 - dense_3_acc_5: 0.0025 - dense_3_acc_6: 5.0847e-04 - dense_3_acc_7: 0.9710 - dense_3_acc_8: 0.1151 - dense_3_acc_9: 0.0744   - ETA: 17s - loss: 19.5256 - dense_3_loss: 2.7588 - dense_3_acc: 0.2965 - dense_3_acc_1: 0.4962 - dense_3_acc_2: 0.2043 - dense_3_acc_3: 0.0458 - dense_3_acc_4: 0.9823 - dense_3_acc_5: 0.0052 - dense_3_acc_6: 6.6667e-04 - dense_3_acc_7: 0.9712 - dense_3_acc_8: 0.1195 - dense_3_acc_9: 0.07 - ETA: 16s - loss: 19.4727 - dense_3_loss: 2.7584 - dense_3_acc: 0.3025 - dense_3_acc_1: 0.4998 - dense_3_acc_2: 0.2084 - dense_3_acc_3: 0.0454 - dense_3_acc_4: 0.9826 - dense_3_acc_5: 0.0077 - dense_3_acc_6: 6.5574e-04 - dense_3_acc_7: 0.9716 - dense_3_acc_8: 0.1200 - dense_3_acc_9: 0.07 - ETA: 15s - loss: 19.4231 - dense_3_loss: 2.7558 - dense_3_acc: 0.3065 - dense_3_acc_1: 0.5008 - dense_3_acc_2: 0.2116 - dense_3_acc_3: 0.0452 - dense_3_acc_4: 0.9829 - dense_3_acc_5: 0.0098 - dense_3_acc_6: 6.4516e-04 - dense_3_acc_7: 0.9721 - dense_3_acc_8: 0.1182 - dense_3_acc_9: 0.07 - ETA: 15s - loss: 19.3690 - dense_3_loss: 2.7536 - dense_3_acc: 0.3105 - dense_3_acc_1: 0.5025 - dense_3_acc_2: 0.2129 - dense_3_acc_3: 0.0444 - dense_3_acc_4: 0.9832 - dense_3_acc_5: 0.0138 - dense_3_acc_6: 6.3492e-04 - dense_3_acc_7: 0.9725 - dense_3_acc_8: 0.1189 - dense_3_acc_9: 0.07 - ETA: 14s - loss: 19.3164 - dense_3_loss: 2.7517 - dense_3_acc: 0.3147 - dense_3_acc_1: 0.5047 - dense_3_acc_2: 0.2150 - dense_3_acc_3: 0.0441 - dense_3_acc_4: 0.9834 - dense_3_acc_5: 0.0223 - dense_3_acc_6: 0.0017 - dense_3_acc_7: 0.9730 - dense_3_acc_8: 0.1252 - dense_3_acc_9: 0.0806   - ETA: 14s - loss: 19.2581 - dense_3_loss: 2.7463 - dense_3_acc: 0.3202 - dense_3_acc_1: 0.5091 - dense_3_acc_2: 0.2175 - dense_3_acc_3: 0.0448 - dense_3_acc_4: 0.9837 - dense_3_acc_5: 0.0326 - dense_3_acc_6: 0.0032 - dense_3_acc_7: 0.9734 - dense_3_acc_8: 0.1294 - dense_3_acc_9: 0.08 - ETA: 13s - loss: 19.2018 - dense_3_loss: 2.7470 - dense_3_acc: 0.3247 - dense_3_acc_1: 0.5121 - dense_3_acc_2: 0.2198 - dense_3_acc_3: 0.0453 - dense_3_acc_4: 0.9839 - dense_3_acc_5: 0.0420 - dense_3_acc_6: 0.0047 - dense_3_acc_7: 0.9738 - dense_3_acc_8: 0.1352 - dense_3_acc_9: 0.08 - ETA: 13s - loss: 19.1436 - dense_3_loss: 2.7454 - dense_3_acc: 0.3293 - dense_3_acc_1: 0.5163 - dense_3_acc_2: 0.2225 - dense_3_acc_3: 0.0446 - dense_3_acc_4: 0.9842 - dense_3_acc_5: 0.0500 - dense_3_acc_6: 0.0049 - dense_3_acc_7: 0.9742 - dense_3_acc_8: 0.1379 - dense_3_acc_9: 0.08 - ETA: 12s - loss: 19.0872 - dense_3_loss: 2.7449 - dense_3_acc: 0.3331 - dense_3_acc_1: 0.5203 - dense_3_acc_2: 0.2250 - dense_3_acc_3: 0.0441 - dense_3_acc_4: 0.9844 - dense_3_acc_5: 0.0594 - dense_3_acc_6: 0.0059 - dense_3_acc_7: 0.9746 - dense_3_acc_8: 0.1409 - dense_3_acc_9: 0.08 - ETA: 12s - loss: 19.0208 - dense_3_loss: 2.7429 - dense_3_acc: 0.3374 - dense_3_acc_1: 0.5233 - dense_3_acc_2: 0.2262 - dense_3_acc_3: 0.0443 - dense_3_acc_4: 0.9846 - dense_3_acc_5: 0.0668 - dense_3_acc_6: 0.0077 - dense_3_acc_7: 0.9749 - dense_3_acc_8: 0.1441 - dense_3_acc_9: 0.08 - ETA: 11s - loss: 18.9528 - dense_3_loss: 2.7386 - dense_3_acc: 0.3413 - dense_3_acc_1: 0.5263 - dense_3_acc_2: 0.2281 - dense_3_acc_3: 0.0439 - dense_3_acc_4: 0.9849 - dense_3_acc_5: 0.0731 - dense_3_acc_6: 0.0091 - dense_3_acc_7: 0.9753 - dense_3_acc_8: 0.1477 - dense_3_acc_9: 0.08 - ETA: 11s - loss: 18.8862 - dense_3_loss: 2.7360 - dense_3_acc: 0.3451 - dense_3_acc_1: 0.5308 - dense_3_acc_2: 0.2301 - dense_3_acc_3: 0.0439 - dense_3_acc_4: 0.9851 - dense_3_acc_5: 0.0790 - dense_3_acc_6: 0.0104 - dense_3_acc_7: 0.9756 - dense_3_acc_8: 0.1503 - dense_3_acc_9: 0.08 - ETA: 10s - loss: 18.8112 - dense_3_loss: 2.7315 - dense_3_acc: 0.3492 - dense_3_acc_1: 0.5350 - dense_3_acc_2: 0.2315 - dense_3_acc_3: 0.0440 - dense_3_acc_4: 0.9853 - dense_3_acc_5: 0.0862 - dense_3_acc_6: 0.0124 - dense_3_acc_7: 0.9760 - dense_3_acc_8: 0.1540 - dense_3_acc_9: 0.08 - ETA: 10s - loss: 18.7409 - dense_3_loss: 2.7270 - dense_3_acc: 0.3515 - dense_3_acc_1: 0.5370 - dense_3_acc_2: 0.2333 - dense_3_acc_3: 0.0453 - dense_3_acc_4: 0.9855 - dense_3_acc_5: 0.0945 - dense_3_acc_6: 0.0127 - dense_3_acc_7: 0.9763 - dense_3_acc_8: 0.1573 - dense_3_acc_9: 0.08 - ETA: 9s - loss: 18.6678 - dense_3_loss: 2.7244 - dense_3_acc: 0.3547 - dense_3_acc_1: 0.5411 - dense_3_acc_2: 0.2354 - dense_3_acc_3: 0.0469 - dense_3_acc_4: 0.9857 - dense_3_acc_5: 0.1041 - dense_3_acc_6: 0.0136 - dense_3_acc_7: 0.9766 - dense_3_acc_8: 0.1592 - dense_3_acc_9: 0.0896 - ETA: 9s - loss: 18.5926 - dense_3_loss: 2.7205 - dense_3_acc: 0.3585 - dense_3_acc_1: 0.5455 - dense_3_acc_2: 0.2380 - dense_3_acc_3: 0.0475 - dense_3_acc_4: 0.9859 - dense_3_acc_5: 0.1128 - dense_3_acc_6: 0.0141 - dense_3_acc_7: 0.9769 - dense_3_acc_8: 0.1616 - dense_3_acc_9: 0.090 - ETA: 8s - loss: 18.5146 - dense_3_loss: 2.7165 - dense_3_acc: 0.3612 - dense_3_acc_1: 0.5497 - dense_3_acc_2: 0.2395 - dense_3_acc_3: 0.0480 - dense_3_acc_4: 0.9861 - dense_3_acc_5: 0.1217 - dense_3_acc_6: 0.0147 - dense_3_acc_7: 0.9772 - dense_3_acc_8: 0.1651 - dense_3_acc_9: 0.090 - ETA: 8s - loss: 18.4395 - dense_3_loss: 2.7123 - dense_3_acc: 0.3635 - dense_3_acc_1: 0.5527 - dense_3_acc_2: 0.2401 - dense_3_acc_3: 0.0487 - dense_3_acc_4: 0.9862 - dense_3_acc_5: 0.1305 - dense_3_acc_6: 0.0152 - dense_3_acc_7: 0.9775 - dense_3_acc_8: 0.1679 - dense_3_acc_9: 0.091 - ETA: 8s - loss: 18.3629 - dense_3_loss: 2.7073 - dense_3_acc: 0.3665 - dense_3_acc_1: 0.5568 - dense_3_acc_2: 0.2423 - dense_3_acc_3: 0.0496 - dense_3_acc_4: 0.9864 - dense_3_acc_5: 0.1385 - dense_3_acc_6: 0.0164 - dense_3_acc_7: 0.9778 - dense_3_acc_8: 0.1712 - dense_3_acc_9: 0.091 - ETA: 7s - loss: 18.2850 - dense_3_loss: 2.7028 - dense_3_acc: 0.3701 - dense_3_acc_1: 0.5606 - dense_3_acc_2: 0.2442 - dense_3_acc_3: 0.0506 - dense_3_acc_4: 0.9866 - dense_3_acc_5: 0.1453 - dense_3_acc_6: 0.0186 - dense_3_acc_7: 0.9781 - dense_3_acc_8: 0.1739 - dense_3_acc_9: 0.092 - ETA: 7s - loss: 18.2096 - dense_3_loss: 2.6981 - dense_3_acc: 0.3736 - dense_3_acc_1: 0.5641 - dense_3_acc_2: 0.2465 - dense_3_acc_3: 0.0516 - dense_3_acc_4: 0.9867 - dense_3_acc_5: 0.1532 - dense_3_acc_6: 0.0200 - dense_3_acc_7: 0.9784 - dense_3_acc_8: 0.1770 - dense_3_acc_9: 0.092 - ETA: 6s - loss: 18.1330 - dense_3_loss: 2.6929 - dense_3_acc: 0.3765 - dense_3_acc_1: 0.5679 - dense_3_acc_2: 0.2477 - dense_3_acc_3: 0.0526 - dense_3_acc_4: 0.9869 - dense_3_acc_5: 0.1606 - dense_3_acc_6: 0.0216 - dense_3_acc_7: 0.9786 - dense_3_acc_8: 0.1795 - dense_3_acc_9: 0.093 - ETA: 6s - loss: 18.0569 - dense_3_loss: 2.6891 - dense_3_acc: 0.3796 - dense_3_acc_1: 0.5717 - dense_3_acc_2: 0.2487 - dense_3_acc_3: 0.0538 - dense_3_acc_4: 0.9871 - dense_3_acc_5: 0.1684 - dense_3_acc_6: 0.0222 - dense_3_acc_7: 0.9789 - dense_3_acc_8: 0.1834 - dense_3_acc_9: 0.093 - ETA: 5s - loss: 17.9859 - dense_3_loss: 2.6858 - dense_3_acc: 0.3823 - dense_3_acc_1: 0.5754 - dense_3_acc_2: 0.2505 - dense_3_acc_3: 0.0549 - dense_3_acc_4: 0.9872 - dense_3_acc_5: 0.1745 - dense_3_acc_6: 0.0237 - dense_3_acc_7: 0.9792 - dense_3_acc_8: 0.1866 - dense_3_acc_9: 0.093 - ETA: 5s - loss: 17.9148 - dense_3_loss: 2.6810 - dense_3_acc: 0.3854 - dense_3_acc_1: 0.5788 - dense_3_acc_2: 0.2530 - dense_3_acc_3: 0.0563 - dense_3_acc_4: 0.9874 - dense_3_acc_5: 0.1819 - dense_3_acc_6: 0.0243 - dense_3_acc_7: 0.9794 - dense_3_acc_8: 0.1885 - dense_3_acc_9: 0.094 - ETA: 5s - loss: 17.8411 - dense_3_loss: 2.6767 - dense_3_acc: 0.3899 - dense_3_acc_1: 0.5822 - dense_3_acc_2: 0.2547 - dense_3_acc_3: 0.0567 - dense_3_acc_4: 0.9875 - dense_3_acc_5: 0.1891 - dense_3_acc_6: 0.0254 - dense_3_acc_7: 0.9796 - dense_3_acc_8: 0.1928 - dense_3_acc_9: 0.0942"
     ]
    },
    {
     "name": "stdout",
     "output_type": "stream",
     "text": [
      "10000/10000 [==============================] - ETA: 4s - loss: 17.7719 - dense_3_loss: 2.6729 - dense_3_acc: 0.3930 - dense_3_acc_1: 0.5857 - dense_3_acc_2: 0.2558 - dense_3_acc_3: 0.0573 - dense_3_acc_4: 0.9877 - dense_3_acc_5: 0.1949 - dense_3_acc_6: 0.0267 - dense_3_acc_7: 0.9799 - dense_3_acc_8: 0.1958 - dense_3_acc_9: 0.094 - ETA: 4s - loss: 17.7022 - dense_3_loss: 2.6690 - dense_3_acc: 0.3977 - dense_3_acc_1: 0.5893 - dense_3_acc_2: 0.2567 - dense_3_acc_3: 0.0583 - dense_3_acc_4: 0.9878 - dense_3_acc_5: 0.2020 - dense_3_acc_6: 0.0282 - dense_3_acc_7: 0.9801 - dense_3_acc_8: 0.1985 - dense_3_acc_9: 0.094 - ETA: 4s - loss: 17.6331 - dense_3_loss: 2.6650 - dense_3_acc: 0.4012 - dense_3_acc_1: 0.5931 - dense_3_acc_2: 0.2584 - dense_3_acc_3: 0.0591 - dense_3_acc_4: 0.9880 - dense_3_acc_5: 0.2081 - dense_3_acc_6: 0.0299 - dense_3_acc_7: 0.9803 - dense_3_acc_8: 0.1999 - dense_3_acc_9: 0.094 - ETA: 3s - loss: 17.5642 - dense_3_loss: 2.6609 - dense_3_acc: 0.4062 - dense_3_acc_1: 0.5960 - dense_3_acc_2: 0.2593 - dense_3_acc_3: 0.0599 - dense_3_acc_4: 0.9881 - dense_3_acc_5: 0.2145 - dense_3_acc_6: 0.0319 - dense_3_acc_7: 0.9806 - dense_3_acc_8: 0.2024 - dense_3_acc_9: 0.095 - ETA: 3s - loss: 17.4955 - dense_3_loss: 2.6574 - dense_3_acc: 0.4109 - dense_3_acc_1: 0.5996 - dense_3_acc_2: 0.2610 - dense_3_acc_3: 0.0609 - dense_3_acc_4: 0.9882 - dense_3_acc_5: 0.2201 - dense_3_acc_6: 0.0336 - dense_3_acc_7: 0.9808 - dense_3_acc_8: 0.2046 - dense_3_acc_9: 0.095 - ETA: 3s - loss: 17.4301 - dense_3_loss: 2.6535 - dense_3_acc: 0.4147 - dense_3_acc_1: 0.6023 - dense_3_acc_2: 0.2621 - dense_3_acc_3: 0.0611 - dense_3_acc_4: 0.9884 - dense_3_acc_5: 0.2259 - dense_3_acc_6: 0.0346 - dense_3_acc_7: 0.9810 - dense_3_acc_8: 0.2064 - dense_3_acc_9: 0.096 - ETA: 2s - loss: 17.3647 - dense_3_loss: 2.6501 - dense_3_acc: 0.4195 - dense_3_acc_1: 0.6058 - dense_3_acc_2: 0.2630 - dense_3_acc_3: 0.0622 - dense_3_acc_4: 0.9885 - dense_3_acc_5: 0.2317 - dense_3_acc_6: 0.0363 - dense_3_acc_7: 0.9812 - dense_3_acc_8: 0.2088 - dense_3_acc_9: 0.096 - ETA: 2s - loss: 17.3015 - dense_3_loss: 2.6466 - dense_3_acc: 0.4242 - dense_3_acc_1: 0.6083 - dense_3_acc_2: 0.2637 - dense_3_acc_3: 0.0632 - dense_3_acc_4: 0.9886 - dense_3_acc_5: 0.2371 - dense_3_acc_6: 0.0381 - dense_3_acc_7: 0.9814 - dense_3_acc_8: 0.2103 - dense_3_acc_9: 0.096 - ETA: 1s - loss: 17.2353 - dense_3_loss: 2.6427 - dense_3_acc: 0.4284 - dense_3_acc_1: 0.6118 - dense_3_acc_2: 0.2655 - dense_3_acc_3: 0.0643 - dense_3_acc_4: 0.9887 - dense_3_acc_5: 0.2427 - dense_3_acc_6: 0.0394 - dense_3_acc_7: 0.9816 - dense_3_acc_8: 0.2116 - dense_3_acc_9: 0.098 - ETA: 1s - loss: 17.1708 - dense_3_loss: 2.6388 - dense_3_acc: 0.4327 - dense_3_acc_1: 0.6149 - dense_3_acc_2: 0.2679 - dense_3_acc_3: 0.0647 - dense_3_acc_4: 0.9888 - dense_3_acc_5: 0.2480 - dense_3_acc_6: 0.0409 - dense_3_acc_7: 0.9818 - dense_3_acc_8: 0.2132 - dense_3_acc_9: 0.098 - ETA: 1s - loss: 17.1071 - dense_3_loss: 2.6356 - dense_3_acc: 0.4375 - dense_3_acc_1: 0.6180 - dense_3_acc_2: 0.2703 - dense_3_acc_3: 0.0656 - dense_3_acc_4: 0.9890 - dense_3_acc_5: 0.2532 - dense_3_acc_6: 0.0422 - dense_3_acc_7: 0.9820 - dense_3_acc_8: 0.2155 - dense_3_acc_9: 0.098 - ETA: 0s - loss: 17.0393 - dense_3_loss: 2.6316 - dense_3_acc: 0.4428 - dense_3_acc_1: 0.6215 - dense_3_acc_2: 0.2721 - dense_3_acc_3: 0.0671 - dense_3_acc_4: 0.9891 - dense_3_acc_5: 0.2590 - dense_3_acc_6: 0.0437 - dense_3_acc_7: 0.9822 - dense_3_acc_8: 0.2180 - dense_3_acc_9: 0.099 - ETA: 0s - loss: 16.9790 - dense_3_loss: 2.6283 - dense_3_acc: 0.4478 - dense_3_acc_1: 0.6248 - dense_3_acc_2: 0.2734 - dense_3_acc_3: 0.0681 - dense_3_acc_4: 0.9892 - dense_3_acc_5: 0.2643 - dense_3_acc_6: 0.0451 - dense_3_acc_7: 0.9823 - dense_3_acc_8: 0.2195 - dense_3_acc_9: 0.099 - ETA: 0s - loss: 16.9176 - dense_3_loss: 2.6250 - dense_3_acc: 0.4529 - dense_3_acc_1: 0.6282 - dense_3_acc_2: 0.2752 - dense_3_acc_3: 0.0688 - dense_3_acc_4: 0.9893 - dense_3_acc_5: 0.2696 - dense_3_acc_6: 0.0474 - dense_3_acc_7: 0.9825 - dense_3_acc_8: 0.2209 - dense_3_acc_9: 0.099 - 32s 3ms/step - loss: 16.8577 - dense_3_loss: 2.6219 - dense_3_acc: 0.4577 - dense_3_acc_1: 0.6313 - dense_3_acc_2: 0.2762 - dense_3_acc_3: 0.0696 - dense_3_acc_4: 0.9894 - dense_3_acc_5: 0.2752 - dense_3_acc_6: 0.0494 - dense_3_acc_7: 0.9827 - dense_3_acc_8: 0.2231 - dense_3_acc_9: 0.1001\n"
     ]
    },
    {
     "data": {
      "text/plain": [
       "<keras.callbacks.History at 0x207fa337978>"
      ]
     },
     "execution_count": 14,
     "metadata": {},
     "output_type": "execute_result"
    }
   ],
   "source": [
    "# Training\n",
    "\n",
    "model.fit([Xoh, s0, c0], outputs, epochs=1, batch_size=100)"
   ]
  },
  {
   "cell_type": "markdown",
   "metadata": {},
   "source": [
    "We have run this model for longer, and saved the weights. Load the weights."
   ]
  },
  {
   "cell_type": "code",
   "execution_count": 15,
   "metadata": {},
   "outputs": [],
   "source": [
    "model.load_weights('models/model.h5')"
   ]
  },
  {
   "cell_type": "code",
   "execution_count": 19,
   "metadata": {},
   "outputs": [
    {
     "name": "stdout",
     "output_type": "stream",
     "text": [
      "__________________________________________________________________________________________________\n",
      "Layer (type)                    Output Shape         Param #     Connected to                     \n",
      "==================================================================================================\n",
      "input_1 (InputLayer)            (None, 30, 37)       0                                            \n",
      "__________________________________________________________________________________________________\n",
      "s0 (InputLayer)                 (None, 64)           0                                            \n",
      "__________________________________________________________________________________________________\n",
      "bidirectional_1 (Bidirectional) (None, 30, 64)       17920       input_1[0][0]                    \n",
      "__________________________________________________________________________________________________\n",
      "repeat_vector_1 (RepeatVector)  (None, 30, 64)       0           s0[0][0]                         \n",
      "                                                                 lstm_1[0][0]                     \n",
      "                                                                 lstm_1[1][0]                     \n",
      "                                                                 lstm_1[2][0]                     \n",
      "                                                                 lstm_1[3][0]                     \n",
      "                                                                 lstm_1[4][0]                     \n",
      "                                                                 lstm_1[5][0]                     \n",
      "                                                                 lstm_1[6][0]                     \n",
      "                                                                 lstm_1[7][0]                     \n",
      "                                                                 lstm_1[8][0]                     \n",
      "__________________________________________________________________________________________________\n",
      "concatenate_1 (Concatenate)     (None, 30, 128)      0           bidirectional_1[0][0]            \n",
      "                                                                 repeat_vector_1[0][0]            \n",
      "                                                                 bidirectional_1[0][0]            \n",
      "                                                                 repeat_vector_1[1][0]            \n",
      "                                                                 bidirectional_1[0][0]            \n",
      "                                                                 repeat_vector_1[2][0]            \n",
      "                                                                 bidirectional_1[0][0]            \n",
      "                                                                 repeat_vector_1[3][0]            \n",
      "                                                                 bidirectional_1[0][0]            \n",
      "                                                                 repeat_vector_1[4][0]            \n",
      "                                                                 bidirectional_1[0][0]            \n",
      "                                                                 repeat_vector_1[5][0]            \n",
      "                                                                 bidirectional_1[0][0]            \n",
      "                                                                 repeat_vector_1[6][0]            \n",
      "                                                                 bidirectional_1[0][0]            \n",
      "                                                                 repeat_vector_1[7][0]            \n",
      "                                                                 bidirectional_1[0][0]            \n",
      "                                                                 repeat_vector_1[8][0]            \n",
      "                                                                 bidirectional_1[0][0]            \n",
      "                                                                 repeat_vector_1[9][0]            \n",
      "__________________________________________________________________________________________________\n",
      "dense_1 (Dense)                 (None, 30, 10)       1290        concatenate_1[0][0]              \n",
      "                                                                 concatenate_1[1][0]              \n",
      "                                                                 concatenate_1[2][0]              \n",
      "                                                                 concatenate_1[3][0]              \n",
      "                                                                 concatenate_1[4][0]              \n",
      "                                                                 concatenate_1[5][0]              \n",
      "                                                                 concatenate_1[6][0]              \n",
      "                                                                 concatenate_1[7][0]              \n",
      "                                                                 concatenate_1[8][0]              \n",
      "                                                                 concatenate_1[9][0]              \n",
      "__________________________________________________________________________________________________\n",
      "dense_2 (Dense)                 (None, 30, 1)        11          dense_1[0][0]                    \n",
      "                                                                 dense_1[1][0]                    \n",
      "                                                                 dense_1[2][0]                    \n",
      "                                                                 dense_1[3][0]                    \n",
      "                                                                 dense_1[4][0]                    \n",
      "                                                                 dense_1[5][0]                    \n",
      "                                                                 dense_1[6][0]                    \n",
      "                                                                 dense_1[7][0]                    \n",
      "                                                                 dense_1[8][0]                    \n",
      "                                                                 dense_1[9][0]                    \n",
      "__________________________________________________________________________________________________\n",
      "attention_weights (Activation)  (None, 30, 1)        0           dense_2[0][0]                    \n",
      "                                                                 dense_2[1][0]                    \n",
      "                                                                 dense_2[2][0]                    \n",
      "                                                                 dense_2[3][0]                    \n",
      "                                                                 dense_2[4][0]                    \n",
      "                                                                 dense_2[5][0]                    \n",
      "                                                                 dense_2[6][0]                    \n",
      "                                                                 dense_2[7][0]                    \n",
      "                                                                 dense_2[8][0]                    \n",
      "                                                                 dense_2[9][0]                    \n",
      "__________________________________________________________________________________________________\n",
      "dot_1 (Dot)                     (None, 1, 64)        0           attention_weights[0][0]          \n",
      "                                                                 bidirectional_1[0][0]            \n",
      "                                                                 attention_weights[1][0]          \n",
      "                                                                 bidirectional_1[0][0]            \n",
      "                                                                 attention_weights[2][0]          \n",
      "                                                                 bidirectional_1[0][0]            \n",
      "                                                                 attention_weights[3][0]          \n",
      "                                                                 bidirectional_1[0][0]            \n"
     ]
    },
    {
     "name": "stdout",
     "output_type": "stream",
     "text": [
      "                                                                 attention_weights[4][0]          \n",
      "                                                                 bidirectional_1[0][0]            \n",
      "                                                                 attention_weights[5][0]          \n",
      "                                                                 bidirectional_1[0][0]            \n",
      "                                                                 attention_weights[6][0]          \n",
      "                                                                 bidirectional_1[0][0]            \n",
      "                                                                 attention_weights[7][0]          \n",
      "                                                                 bidirectional_1[0][0]            \n",
      "                                                                 attention_weights[8][0]          \n",
      "                                                                 bidirectional_1[0][0]            \n",
      "                                                                 attention_weights[9][0]          \n",
      "                                                                 bidirectional_1[0][0]            \n",
      "__________________________________________________________________________________________________\n",
      "c0 (InputLayer)                 (None, 64)           0                                            \n",
      "__________________________________________________________________________________________________\n",
      "lstm_1 (LSTM)                   [(None, 64), (None,  33024       dot_1[0][0]                      \n",
      "                                                                 s0[0][0]                         \n",
      "                                                                 c0[0][0]                         \n",
      "                                                                 dot_1[1][0]                      \n",
      "                                                                 lstm_1[0][0]                     \n",
      "                                                                 lstm_1[0][2]                     \n",
      "                                                                 dot_1[2][0]                      \n",
      "                                                                 lstm_1[1][0]                     \n",
      "                                                                 lstm_1[1][2]                     \n",
      "                                                                 dot_1[3][0]                      \n",
      "                                                                 lstm_1[2][0]                     \n",
      "                                                                 lstm_1[2][2]                     \n",
      "                                                                 dot_1[4][0]                      \n",
      "                                                                 lstm_1[3][0]                     \n",
      "                                                                 lstm_1[3][2]                     \n",
      "                                                                 dot_1[5][0]                      \n",
      "                                                                 lstm_1[4][0]                     \n",
      "                                                                 lstm_1[4][2]                     \n",
      "                                                                 dot_1[6][0]                      \n",
      "                                                                 lstm_1[5][0]                     \n",
      "                                                                 lstm_1[5][2]                     \n",
      "                                                                 dot_1[7][0]                      \n",
      "                                                                 lstm_1[6][0]                     \n",
      "                                                                 lstm_1[6][2]                     \n",
      "                                                                 dot_1[8][0]                      \n",
      "                                                                 lstm_1[7][0]                     \n",
      "                                                                 lstm_1[7][2]                     \n",
      "                                                                 dot_1[9][0]                      \n",
      "                                                                 lstm_1[8][0]                     \n",
      "                                                                 lstm_1[8][2]                     \n",
      "__________________________________________________________________________________________________\n",
      "dense_3 (Dense)                 (None, 11)           715         lstm_1[0][0]                     \n",
      "                                                                 lstm_1[1][0]                     \n",
      "                                                                 lstm_1[2][0]                     \n",
      "                                                                 lstm_1[3][0]                     \n",
      "                                                                 lstm_1[4][0]                     \n",
      "                                                                 lstm_1[5][0]                     \n",
      "                                                                 lstm_1[6][0]                     \n",
      "                                                                 lstm_1[7][0]                     \n",
      "                                                                 lstm_1[8][0]                     \n",
      "                                                                 lstm_1[9][0]                     \n",
      "==================================================================================================\n",
      "Total params: 52,960\n",
      "Trainable params: 52,960\n",
      "Non-trainable params: 0\n",
      "__________________________________________________________________________________________________\n"
     ]
    }
   ],
   "source": [
    "model.summary()"
   ]
  },
  {
   "cell_type": "code",
   "execution_count": 17,
   "metadata": {},
   "outputs": [],
   "source": [
    "# Result\n",
    "\n",
    "# EXAMPLES = ['3 July 1979', '5 April 09', '21th of August 2016', 'Tue 10 Jul 2007', 'Saturday May 9 2018', 'March 3 2001', 'March 3rd 2001', '1 March 2001']\n",
    "# for example in EXAMPLES:\n",
    "    \n",
    "#     source = string_to_int(example, Tx, human_vocab)\n",
    "#     source = np.array(list(map(lambda x: to_categorical(x, num_classes=len(human_vocab)), source))).swapaxes(0,1)\n",
    "#     prediction = model.predict([source, s0, c0])\n",
    "#     prediction = np.argmax(prediction, axis = -1)\n",
    "#     output = [inv_machine_vocab[int(i)] for i in prediction]\n",
    "    \n",
    "#     print(\"source:\", example)\n",
    "#     print(\"output:\", ''.join(output),\"\\n\")"
   ]
  },
  {
   "cell_type": "code",
   "execution_count": 18,
   "metadata": {},
   "outputs": [
    {
     "data": {
      "text/plain": [
       "<matplotlib.figure.Figure at 0x20791c5d7f0>"
      ]
     },
     "metadata": {},
     "output_type": "display_data"
    },
    {
     "data": {
      "image/png": "[encoded data removed]",
      "text/plain": [
       "<matplotlib.figure.Figure at 0x20791c5db00>"
      ]
     },
     "metadata": {},
     "output_type": "display_data"
    }
   ],
   "source": [
    "attention_map = plot_attention_map(model, human_vocab, inv_machine_vocab, \"Tuesday 09 Oct 1993\", num = 7, n_s = 64);"
   ]
  },
  {
   "cell_type": "code",
   "execution_count": null,
   "metadata": {},
   "outputs": [],
   "source": []
  }
 ],
 "metadata": {
  "kernelspec": {
   "display_name": "Python 3",
   "language": "python",
   "name": "python3"
  },
  "language_info": {
   "codemirror_mode": {
    "name": "ipython",
    "version": 3
   },
   "file_extension": ".py",
   "mimetype": "text/x-python",
   "name": "python",
   "nbconvert_exporter": "python",
   "pygments_lexer": "ipython3",
   "version": "3.6.4"
  }
 },
 "nbformat": 4,
 "nbformat_minor": 2
}
